{
 "cells": [
  {
   "cell_type": "markdown",
   "metadata": {},
   "source": [
    "### Практическая работа №2 по дисциплине \"Математическое моделирование в САПР\"\n",
    "Выполнена студентом группы БИВТ-18-3 ИТКН НИТУ \"МИСиС\" Ковешниковым Арсением\n",
    "#### Построение дерева достижимости сети Петри"
   ]
  },
  {
   "cell_type": "code",
   "execution_count": 11,
   "metadata": {},
   "outputs": [],
   "source": [
    "import math\n",
    "import numpy as np\n",
    "import plotly as pl\n",
    "import pandas as pd\n",
    "import xlrd"
   ]
  },
  {
   "cell_type": "markdown",
   "metadata": {},
   "source": [
    "Получим векторное описание сети Петри из .xlsx файла. Количество позиций определяется по количеству столбцов, переходов — по количеству входных/выходных векторов. Несовпадение количества входных/выходных векторов вызывает ошибку."
   ]
  },
  {
   "cell_type": "code",
   "execution_count": 12,
   "metadata": {
    "scrolled": false
   },
   "outputs": [
    {
     "data": {
      "text/html": [
       "<div>\n",
       "<style scoped>\n",
       "    .dataframe tbody tr th:only-of-type {\n",
       "        vertical-align: middle;\n",
       "    }\n",
       "\n",
       "    .dataframe tbody tr th {\n",
       "        vertical-align: top;\n",
       "    }\n",
       "\n",
       "    .dataframe thead th {\n",
       "        text-align: right;\n",
       "    }\n",
       "</style>\n",
       "<table border=\"1\" class=\"dataframe\">\n",
       "  <thead>\n",
       "    <tr style=\"text-align: right;\">\n",
       "      <th></th>\n",
       "      <th>p1</th>\n",
       "      <th>p2</th>\n",
       "      <th>p3</th>\n",
       "      <th>p4</th>\n",
       "    </tr>\n",
       "  </thead>\n",
       "  <tbody>\n",
       "    <tr>\n",
       "      <th>m</th>\n",
       "      <td>1</td>\n",
       "      <td>0</td>\n",
       "      <td>1</td>\n",
       "      <td>0</td>\n",
       "    </tr>\n",
       "    <tr>\n",
       "      <th>I</th>\n",
       "      <td>1</td>\n",
       "      <td>1</td>\n",
       "      <td>0</td>\n",
       "      <td>0</td>\n",
       "    </tr>\n",
       "    <tr>\n",
       "      <th>I</th>\n",
       "      <td>0</td>\n",
       "      <td>0</td>\n",
       "      <td>0</td>\n",
       "      <td>1</td>\n",
       "    </tr>\n",
       "    <tr>\n",
       "      <th>I</th>\n",
       "      <td>0</td>\n",
       "      <td>0</td>\n",
       "      <td>1</td>\n",
       "      <td>0</td>\n",
       "    </tr>\n",
       "    <tr>\n",
       "      <th>O</th>\n",
       "      <td>1</td>\n",
       "      <td>0</td>\n",
       "      <td>0</td>\n",
       "      <td>0</td>\n",
       "    </tr>\n",
       "    <tr>\n",
       "      <th>O</th>\n",
       "      <td>0</td>\n",
       "      <td>1</td>\n",
       "      <td>1</td>\n",
       "      <td>0</td>\n",
       "    </tr>\n",
       "    <tr>\n",
       "      <th>O</th>\n",
       "      <td>0</td>\n",
       "      <td>0</td>\n",
       "      <td>0</td>\n",
       "      <td>1</td>\n",
       "    </tr>\n",
       "  </tbody>\n",
       "</table>\n",
       "</div>"
      ],
      "text/plain": [
       "   p1  p2  p3  p4\n",
       "m   1   0   1   0\n",
       "I   1   1   0   0\n",
       "I   0   0   0   1\n",
       "I   0   0   1   0\n",
       "O   1   0   0   0\n",
       "O   0   1   1   0\n",
       "O   0   0   0   1"
      ]
     },
     "metadata": {},
     "output_type": "display_data"
    }
   ],
   "source": [
    "with open('petrinet.xlsx', 'rb') as file:\n",
    "    df = pd.read_excel(file, engine='openpyxl', index_col=0)\n",
    "    if (df.loc['I'].shape[0] != df.loc['O'].shape[0]):\n",
    "        raise SyntaxError(\"Неверное содержание файла!\")\n",
    "display(df)"
   ]
  },
  {
   "cell_type": "markdown",
   "metadata": {},
   "source": [
    "Выведем количества позиций и переходов, начальную маркировку и входные/выходные вектора."
   ]
  },
  {
   "cell_type": "code",
   "execution_count": 13,
   "metadata": {
    "scrolled": true
   },
   "outputs": [
    {
     "name": "stdout",
     "output_type": "stream",
     "text": [
      "Кол-во позиций: 4\n",
      "Кол-во переходов: 3\n",
      "Начальная маркировка: [1 0 1 0]\n"
     ]
    },
    {
     "data": {
      "text/html": [
       "<div>\n",
       "<style scoped>\n",
       "    .dataframe tbody tr th:only-of-type {\n",
       "        vertical-align: middle;\n",
       "    }\n",
       "\n",
       "    .dataframe tbody tr th {\n",
       "        vertical-align: top;\n",
       "    }\n",
       "\n",
       "    .dataframe thead th {\n",
       "        text-align: right;\n",
       "    }\n",
       "</style>\n",
       "<table border=\"1\" class=\"dataframe\">\n",
       "  <thead>\n",
       "    <tr style=\"text-align: right;\">\n",
       "      <th></th>\n",
       "      <th>p1</th>\n",
       "      <th>p2</th>\n",
       "      <th>p3</th>\n",
       "      <th>p4</th>\n",
       "    </tr>\n",
       "  </thead>\n",
       "  <tbody>\n",
       "    <tr>\n",
       "      <th>I</th>\n",
       "      <td>1</td>\n",
       "      <td>1</td>\n",
       "      <td>0</td>\n",
       "      <td>0</td>\n",
       "    </tr>\n",
       "    <tr>\n",
       "      <th>I</th>\n",
       "      <td>0</td>\n",
       "      <td>0</td>\n",
       "      <td>0</td>\n",
       "      <td>1</td>\n",
       "    </tr>\n",
       "    <tr>\n",
       "      <th>I</th>\n",
       "      <td>0</td>\n",
       "      <td>0</td>\n",
       "      <td>1</td>\n",
       "      <td>0</td>\n",
       "    </tr>\n",
       "  </tbody>\n",
       "</table>\n",
       "</div>"
      ],
      "text/plain": [
       "   p1  p2  p3  p4\n",
       "I   1   1   0   0\n",
       "I   0   0   0   1\n",
       "I   0   0   1   0"
      ]
     },
     "metadata": {},
     "output_type": "display_data"
    },
    {
     "data": {
      "text/html": [
       "<div>\n",
       "<style scoped>\n",
       "    .dataframe tbody tr th:only-of-type {\n",
       "        vertical-align: middle;\n",
       "    }\n",
       "\n",
       "    .dataframe tbody tr th {\n",
       "        vertical-align: top;\n",
       "    }\n",
       "\n",
       "    .dataframe thead th {\n",
       "        text-align: right;\n",
       "    }\n",
       "</style>\n",
       "<table border=\"1\" class=\"dataframe\">\n",
       "  <thead>\n",
       "    <tr style=\"text-align: right;\">\n",
       "      <th></th>\n",
       "      <th>p1</th>\n",
       "      <th>p2</th>\n",
       "      <th>p3</th>\n",
       "      <th>p4</th>\n",
       "    </tr>\n",
       "  </thead>\n",
       "  <tbody>\n",
       "    <tr>\n",
       "      <th>O</th>\n",
       "      <td>1</td>\n",
       "      <td>0</td>\n",
       "      <td>0</td>\n",
       "      <td>0</td>\n",
       "    </tr>\n",
       "    <tr>\n",
       "      <th>O</th>\n",
       "      <td>0</td>\n",
       "      <td>1</td>\n",
       "      <td>1</td>\n",
       "      <td>0</td>\n",
       "    </tr>\n",
       "    <tr>\n",
       "      <th>O</th>\n",
       "      <td>0</td>\n",
       "      <td>0</td>\n",
       "      <td>0</td>\n",
       "      <td>1</td>\n",
       "    </tr>\n",
       "  </tbody>\n",
       "</table>\n",
       "</div>"
      ],
      "text/plain": [
       "   p1  p2  p3  p4\n",
       "O   1   0   0   0\n",
       "O   0   1   1   0\n",
       "O   0   0   0   1"
      ]
     },
     "metadata": {},
     "output_type": "display_data"
    }
   ],
   "source": [
    "columns = df.shape[1]\n",
    "pQty = df.shape[1]\n",
    "tQty = df.loc['I'].shape[0]\n",
    "init_m = df.loc['m'].array.to_numpy()\n",
    "init_i = df.loc['I']\n",
    "init_o = df.loc['O']\n",
    "print(\"Кол-во позиций: \"+str(pQty))\n",
    "print(\"Кол-во переходов: \"+str(tQty))\n",
    "print(\"Начальная маркировка: \"+str(init_m))\n",
    "display(init_i)\n",
    "display(init_o)"
   ]
  },
  {
   "cell_type": "markdown",
   "metadata": {},
   "source": [
    "Создадим класс для хранения данных об узле дерева достижимости"
   ]
  },
  {
   "cell_type": "code",
   "execution_count": 6,
   "metadata": {},
   "outputs": [],
   "source": [
    "class Node:\n",
    "    def __init__(self, parent=[], children=[], marking=None, type=0):\n",
    "        self.parent = parent\n",
    "        self.children = children\n",
    "        self.marking = marking\n",
    "        self.type = type\n",
    "        \n",
    "    def find(self, marking):\n",
    "        if self.marking is marking: return True\n",
    "        for node in self.children:\n",
    "            n = node.find(x)\n",
    "            if n.marking is not marking: return True\n",
    "        return False\n",
    "        \n",
    "tree = Node(marking=init_m)"
   ]
  },
  {
   "cell_type": "markdown",
   "metadata": {},
   "source": [
    "Реализуем функцию поиска разрешённых переходов. Если хотя бы один элемент входного вектора превышает маркировку, переход запрещён."
   ]
  },
  {
   "cell_type": "code",
   "execution_count": 7,
   "metadata": {
    "scrolled": false
   },
   "outputs": [
    {
     "name": "stdout",
     "output_type": "stream",
     "text": [
      "Изначально разрешённые переходы:  [3]\n"
     ]
    }
   ],
   "source": [
    "def allowedTransitions(node):\n",
    "    result = []\n",
    "    for i in range(tQty):\n",
    "        allowed = True\n",
    "        for j in range(pQty):\n",
    "            if(node.marking[j]<init_i.iloc[i][j]):\n",
    "                allowed = False\n",
    "        if(allowed == True):\n",
    "            result.append(i)\n",
    "    return result\n",
    "\n",
    "init_allowedTransitions = allowedTransitions(tree)\n",
    "\n",
    "print(\"Изначально разрешённые переходы: \", [x+1 for x in init_allowedTransitions])"
   ]
  },
  {
   "cell_type": "code",
   "execution_count": 8,
   "metadata": {
    "scrolled": true
   },
   "outputs": [
    {
     "name": "stdout",
     "output_type": "stream",
     "text": [
      "[1, 0, 0, 1]\n"
     ]
    }
   ],
   "source": [
    "def performTransition(tNumber,fromNode):\n",
    "    marking = []\n",
    "    for i in range(pQty):\n",
    "        marking.append(fromNode.marking[i]-init_i.iloc[tNumber][i]+init_o.iloc[tNumber][i])\n",
    "    return marking\n",
    "\n",
    "print(performTransition(2,tree))"
   ]
  },
  {
   "cell_type": "code",
   "execution_count": 10,
   "metadata": {},
   "outputs": [],
   "source": [
    "def isTerminal(node,tree):\n",
    "    result = False\n",
    "    if(allowedTransitions(node) == []):\n",
    "        result = True\n",
    "    return result\n",
    "    \n",
    "def isDuplicate(node,tree):\n",
    "    result = False\n",
    "    if(allowedTransitions(node) == []):\n",
    "        result = True\n",
    "    return result\n",
    "\n",
    "def nodeType(node,tree):\n",
    "    result = 0\n",
    "    if(allowedTransitions(node) == []):\n",
    "        node.type = 1\n",
    "    "
   ]
  },
  {
   "cell_type": "code",
   "execution_count": 14,
   "metadata": {},
   "outputs": [],
   "source": [
    "def execute(node):\n",
    "    transitions = allowedTransitions(node)\n",
    "    for t in transitions:\n",
    "        marking = performTransition(t,node)\n",
    "        newNode = Node(parent=node, marking=marking)\n",
    "        node.children.append(newNode)\n",
    "        #execute(newNode)\n",
    "        \n",
    "execute(tree)"
   ]
  },
  {
   "cell_type": "code",
   "execution_count": null,
   "metadata": {},
   "outputs": [],
   "source": []
  }
 ],
 "metadata": {
  "kernelspec": {
   "display_name": "Python 3",
   "language": "python",
   "name": "python3"
  },
  "language_info": {
   "codemirror_mode": {
    "name": "ipython",
    "version": 3
   },
   "file_extension": ".py",
   "mimetype": "text/x-python",
   "name": "python",
   "nbconvert_exporter": "python",
   "pygments_lexer": "ipython3",
   "version": "3.8.3"
  }
 },
 "nbformat": 4,
 "nbformat_minor": 4
}
