{
 "cells": [
  {
   "cell_type": "markdown",
   "metadata": {},
   "source": [
    "### Практическая работа №2 по дисциплине \"Математическое моделирование в САПР\"\n",
    "Выполнена студентом группы БИВТ-18-3 ИТКН НИТУ \"МИСиС\" Ковешниковым Арсением\n",
    "#### Построение дерева достижимости сети Петри"
   ]
  },
  {
   "cell_type": "code",
   "execution_count": 1,
   "metadata": {},
   "outputs": [],
   "source": [
    "import math\n",
    "import numpy as np\n",
    "import pandas as pd\n",
    "import xlrd\n",
    "from IPython.display import Image"
   ]
  },
  {
   "cell_type": "markdown",
   "metadata": {},
   "source": [
    "В данном примере используем сеть Петри из методички"
   ]
  },
  {
   "cell_type": "code",
   "execution_count": 2,
   "metadata": {},
   "outputs": [
    {
     "data": {
      "image/png": "[encoded data removed]",
      "text/plain": [
       "<IPython.core.display.Image object>"
      ]
     },
     "execution_count": 2,
     "metadata": {},
     "output_type": "execute_result"
    }
   ],
   "source": [
    "Image(\"img/petrinet2.png\")"
   ]
  },
  {
   "cell_type": "markdown",
   "metadata": {},
   "source": [
    "Получим векторное описание сети Петри из .xlsx файла. Количество позиций определяется по количеству столбцов, переходов — по количеству входных/выходных векторов. Несовпадение количества входных/выходных векторов вызывает ошибку."
   ]
  },
  {
   "cell_type": "code",
   "execution_count": 3,
   "metadata": {
    "scrolled": false
   },
   "outputs": [
    {
     "data": {
      "text/html": [
       "<div>\n",
       "<style scoped>\n",
       "    .dataframe tbody tr th:only-of-type {\n",
       "        vertical-align: middle;\n",
       "    }\n",
       "\n",
       "    .dataframe tbody tr th {\n",
       "        vertical-align: top;\n",
       "    }\n",
       "\n",
       "    .dataframe thead th {\n",
       "        text-align: right;\n",
       "    }\n",
       "</style>\n",
       "<table border=\"1\" class=\"dataframe\">\n",
       "  <thead>\n",
       "    <tr style=\"text-align: right;\">\n",
       "      <th></th>\n",
       "      <th>p1</th>\n",
       "      <th>p2</th>\n",
       "      <th>p3</th>\n",
       "      <th>p4</th>\n",
       "    </tr>\n",
       "  </thead>\n",
       "  <tbody>\n",
       "    <tr>\n",
       "      <th>m</th>\n",
       "      <td>1</td>\n",
       "      <td>0</td>\n",
       "      <td>1</td>\n",
       "      <td>0</td>\n",
       "    </tr>\n",
       "    <tr>\n",
       "      <th>I</th>\n",
       "      <td>1</td>\n",
       "      <td>1</td>\n",
       "      <td>0</td>\n",
       "      <td>0</td>\n",
       "    </tr>\n",
       "    <tr>\n",
       "      <th>I</th>\n",
       "      <td>0</td>\n",
       "      <td>0</td>\n",
       "      <td>0</td>\n",
       "      <td>1</td>\n",
       "    </tr>\n",
       "    <tr>\n",
       "      <th>I</th>\n",
       "      <td>0</td>\n",
       "      <td>0</td>\n",
       "      <td>1</td>\n",
       "      <td>0</td>\n",
       "    </tr>\n",
       "    <tr>\n",
       "      <th>O</th>\n",
       "      <td>1</td>\n",
       "      <td>0</td>\n",
       "      <td>0</td>\n",
       "      <td>0</td>\n",
       "    </tr>\n",
       "    <tr>\n",
       "      <th>O</th>\n",
       "      <td>0</td>\n",
       "      <td>1</td>\n",
       "      <td>1</td>\n",
       "      <td>0</td>\n",
       "    </tr>\n",
       "    <tr>\n",
       "      <th>O</th>\n",
       "      <td>0</td>\n",
       "      <td>0</td>\n",
       "      <td>0</td>\n",
       "      <td>1</td>\n",
       "    </tr>\n",
       "  </tbody>\n",
       "</table>\n",
       "</div>"
      ],
      "text/plain": [
       "   p1  p2  p3  p4\n",
       "m   1   0   1   0\n",
       "I   1   1   0   0\n",
       "I   0   0   0   1\n",
       "I   0   0   1   0\n",
       "O   1   0   0   0\n",
       "O   0   1   1   0\n",
       "O   0   0   0   1"
      ]
     },
     "metadata": {},
     "output_type": "display_data"
    }
   ],
   "source": [
    "with open('petrinet.xlsx', 'rb') as file:\n",
    "    df = pd.read_excel(file, engine='openpyxl', index_col=0)\n",
    "    if (df.loc['I'].shape[0] != df.loc['O'].shape[0]):\n",
    "        raise SyntaxError(\"Неверное содержание файла!\")\n",
    "display(df)"
   ]
  },
  {
   "cell_type": "markdown",
   "metadata": {},
   "source": [
    "Выведем количества позиций и переходов, начальную маркировку и входные/выходные вектора."
   ]
  },
  {
   "cell_type": "code",
   "execution_count": 4,
   "metadata": {
    "scrolled": true
   },
   "outputs": [
    {
     "name": "stdout",
     "output_type": "stream",
     "text": [
      "Кол-во позиций: 4\n",
      "Кол-во переходов: 3\n",
      "Начальная маркировка: [1, 0, 1, 0]\n"
     ]
    },
    {
     "data": {
      "text/html": [
       "<div>\n",
       "<style scoped>\n",
       "    .dataframe tbody tr th:only-of-type {\n",
       "        vertical-align: middle;\n",
       "    }\n",
       "\n",
       "    .dataframe tbody tr th {\n",
       "        vertical-align: top;\n",
       "    }\n",
       "\n",
       "    .dataframe thead th {\n",
       "        text-align: right;\n",
       "    }\n",
       "</style>\n",
       "<table border=\"1\" class=\"dataframe\">\n",
       "  <thead>\n",
       "    <tr style=\"text-align: right;\">\n",
       "      <th></th>\n",
       "      <th>p1</th>\n",
       "      <th>p2</th>\n",
       "      <th>p3</th>\n",
       "      <th>p4</th>\n",
       "    </tr>\n",
       "  </thead>\n",
       "  <tbody>\n",
       "    <tr>\n",
       "      <th>I</th>\n",
       "      <td>1</td>\n",
       "      <td>1</td>\n",
       "      <td>0</td>\n",
       "      <td>0</td>\n",
       "    </tr>\n",
       "    <tr>\n",
       "      <th>I</th>\n",
       "      <td>0</td>\n",
       "      <td>0</td>\n",
       "      <td>0</td>\n",
       "      <td>1</td>\n",
       "    </tr>\n",
       "    <tr>\n",
       "      <th>I</th>\n",
       "      <td>0</td>\n",
       "      <td>0</td>\n",
       "      <td>1</td>\n",
       "      <td>0</td>\n",
       "    </tr>\n",
       "  </tbody>\n",
       "</table>\n",
       "</div>"
      ],
      "text/plain": [
       "   p1  p2  p3  p4\n",
       "I   1   1   0   0\n",
       "I   0   0   0   1\n",
       "I   0   0   1   0"
      ]
     },
     "metadata": {},
     "output_type": "display_data"
    },
    {
     "data": {
      "text/html": [
       "<div>\n",
       "<style scoped>\n",
       "    .dataframe tbody tr th:only-of-type {\n",
       "        vertical-align: middle;\n",
       "    }\n",
       "\n",
       "    .dataframe tbody tr th {\n",
       "        vertical-align: top;\n",
       "    }\n",
       "\n",
       "    .dataframe thead th {\n",
       "        text-align: right;\n",
       "    }\n",
       "</style>\n",
       "<table border=\"1\" class=\"dataframe\">\n",
       "  <thead>\n",
       "    <tr style=\"text-align: right;\">\n",
       "      <th></th>\n",
       "      <th>p1</th>\n",
       "      <th>p2</th>\n",
       "      <th>p3</th>\n",
       "      <th>p4</th>\n",
       "    </tr>\n",
       "  </thead>\n",
       "  <tbody>\n",
       "    <tr>\n",
       "      <th>O</th>\n",
       "      <td>1</td>\n",
       "      <td>0</td>\n",
       "      <td>0</td>\n",
       "      <td>0</td>\n",
       "    </tr>\n",
       "    <tr>\n",
       "      <th>O</th>\n",
       "      <td>0</td>\n",
       "      <td>1</td>\n",
       "      <td>1</td>\n",
       "      <td>0</td>\n",
       "    </tr>\n",
       "    <tr>\n",
       "      <th>O</th>\n",
       "      <td>0</td>\n",
       "      <td>0</td>\n",
       "      <td>0</td>\n",
       "      <td>1</td>\n",
       "    </tr>\n",
       "  </tbody>\n",
       "</table>\n",
       "</div>"
      ],
      "text/plain": [
       "   p1  p2  p3  p4\n",
       "O   1   0   0   0\n",
       "O   0   1   1   0\n",
       "O   0   0   0   1"
      ]
     },
     "metadata": {},
     "output_type": "display_data"
    }
   ],
   "source": [
    "columns = df.shape[1]\n",
    "pQty = df.shape[1]\n",
    "tQty = df.loc['I'].shape[0]\n",
    "init_m = df.loc['m'].values.tolist()\n",
    "init_i = df.loc['I']\n",
    "init_o = df.loc['O']\n",
    "print(\"Кол-во позиций: \"+str(pQty))\n",
    "print(\"Кол-во переходов: \"+str(tQty))\n",
    "print(\"Начальная маркировка: \"+str(init_m))\n",
    "display(init_i)\n",
    "display(init_o)"
   ]
  },
  {
   "cell_type": "markdown",
   "metadata": {},
   "source": [
    "Создадим класс, представляющий узел дерева достижимости. В нём также реализуем несколько рекурсивных функций: вывод дерева в строковом виде, получение всех узлов дерева в виде списка (а также вариация с исключением определённого узла для поиска дублирующей вершины) и получение всех узлов на пути от вершины до корня."
   ]
  },
  {
   "cell_type": "code",
   "execution_count": 5,
   "metadata": {
    "scrolled": true
   },
   "outputs": [],
   "source": [
    "class Node:\n",
    "    def __init__(self, parent=None, children=[], marking=None, type=0, transition=-1):\n",
    "        self.parent = parent\n",
    "        self.children = children\n",
    "        self.marking = marking\n",
    "        self.type = type\n",
    "        self.transition = transition\n",
    "        \n",
    "    def addChild(self, obj):\n",
    "        self.children.append(obj)\n",
    "    \n",
    "    def __str__(self, level=0):\n",
    "        typeNames = [\"граничная\", \"дублирующая\", \"терминальная\", \"внутренняя\"]\n",
    "        \n",
    "        tab = \"├\"\n",
    "        if(level==0):\n",
    "            tab = \"\"\n",
    "        \n",
    "        stringmarkings = \"\"\n",
    "        for i in range(len(self.marking)):\n",
    "            if self.marking[i] == 1000:\n",
    "                stringmarkings += \"ω \"\n",
    "            else:\n",
    "                stringmarkings += str(self.marking[i]) + \" \"\n",
    "        \n",
    "        trans = \"\"\n",
    "        if (self.transition != 0):\n",
    "            trans = \" из перехода t\"+str(self.transition+1);\n",
    "        result = tab+\"─\"*(2*level-1)+\"[ \"+stringmarkings+\"] \"+typeNames[self.type]+trans+\"\\n\"\n",
    "        for c in self.children:\n",
    "            result += c.__str__(level+1)\n",
    "        return result\n",
    "    \n",
    "    #функция получения всех узлов дерева в виде списка\n",
    "    def getAllNodes(self):\n",
    "        nodes = []\n",
    "        nodes.append(self)\n",
    "        for c in self.children:\n",
    "            nodes.extend(c.getAllNodes())\n",
    "        return nodes\n",
    "    \n",
    "    def getAllNodesExcept(self, node):\n",
    "        nodes = []\n",
    "        if(self != node):\n",
    "            nodes.append(self)\n",
    "        for c in self.children:\n",
    "            nodes.extend(c.getAllNodesExcept(node))\n",
    "        return nodes\n",
    "    \n",
    "    #функция получения списка узлов между заданнымм узлом и корнем дерева\n",
    "    def pathToTheRoot(self):\n",
    "        nodes = []\n",
    "        nodes.append(self)\n",
    "        if(self.parent != None):\n",
    "            nodes.extend(self.parent.pathToTheRoot())\n",
    "        return nodes"
   ]
  },
  {
   "cell_type": "markdown",
   "metadata": {},
   "source": [
    "Реализуем функцию поиска разрешённых переходов. Если хотя бы один элемент входного вектора превышает маркировку, переход запрещён."
   ]
  },
  {
   "cell_type": "code",
   "execution_count": 6,
   "metadata": {
    "scrolled": false
   },
   "outputs": [],
   "source": [
    "def allowedTransitions(node):\n",
    "    result = []\n",
    "    for i in range(tQty):\n",
    "        allowed = True\n",
    "        for j in range(pQty):\n",
    "            if(node.marking[j]<init_i.iloc[i][j]):\n",
    "                allowed = False\n",
    "        if(allowed == True):\n",
    "            result.append(i)\n",
    "    #print(\"разр\", result)\n",
    "    return result"
   ]
  },
  {
   "cell_type": "markdown",
   "metadata": {},
   "source": [
    "Реализуем функцию следующего состояния: маркировка вершины минус входная функция плюс выходная функция"
   ]
  },
  {
   "cell_type": "code",
   "execution_count": 7,
   "metadata": {
    "scrolled": true
   },
   "outputs": [],
   "source": [
    "def nextStateFunction(tNumber,fromNode):\n",
    "    nextState = []\n",
    "    for i in range(pQty):\n",
    "        if(fromNode.marking[i] == 1000):\n",
    "            nextState.append(1000);\n",
    "        else:\n",
    "            nextState.append(fromNode.marking[i]-init_i.iloc[tNumber][i]+init_o.iloc[tNumber][i])\n",
    "    return nextState"
   ]
  },
  {
   "cell_type": "markdown",
   "metadata": {},
   "source": [
    "Реализуем функцию поиска новой маркировки с учётом возможного возникновения символа омега (для приведения типов хранения данных заменён на число 1000). \n",
    "Сначала проверяется, есть ли в родительской вершине символ омега. Если нет, тогда на всём пути от вершины до родителя ищется вершина, меньшая или равная функции следующего состояния. В случае выполнения этого условия, осуществляется проверка строгого неравенства между элементами двух векторов на возможность добавления символа омега."
   ]
  },
  {
   "cell_type": "code",
   "execution_count": 8,
   "metadata": {
    "scrolled": false
   },
   "outputs": [],
   "source": [
    "def newMarking(node,nextState):\n",
    "    marking = nextState\n",
    "    \n",
    "    if node.parent != None:\n",
    "        for i in range(pQty):\n",
    "            if (node.parent.marking[i] == 1000):\n",
    "                marking[i] = 1000\n",
    "\n",
    "        parents = node.pathToTheRoot()\n",
    "        infinity = True\n",
    "        for p in parents:\n",
    "            for i in range(pQty):\n",
    "                if (nextState[i]<p.marking[i]):\n",
    "                    infinity = False\n",
    "                else:\n",
    "                    infinity = True\n",
    "            if (infinity):\n",
    "                for i in range(pQty):\n",
    "                    if (nextState[i]>p.marking[i]):\n",
    "                        marking[i] = 1000\n",
    "    return marking"
   ]
  },
  {
   "cell_type": "markdown",
   "metadata": {},
   "source": [
    "Реализуем функцию обработки вершины.\n",
    "Здесь определяются типы вершин: 0 - граничная, 1 - дублирующая, 2 - терминальная, 3 - граничная.  Определение дублирующего типа вынесем в отдельную функцию, т.к. эту часть алгоритма затруднительно целиком обработать внутри условия if."
   ]
  },
  {
   "cell_type": "code",
   "execution_count": 9,
   "metadata": {},
   "outputs": [],
   "source": [
    "def isDuplicate(node, level=0):\n",
    "    result = False\n",
    "    tree = root.getAllNodesExcept(node)\n",
    "    if(level==0):\n",
    "        return False\n",
    "    print(tree)\n",
    "    for n in tree:\n",
    "        print(\"марк\", n.marking, node.marking)\n",
    "        if(node.marking == n.marking):\n",
    "            result = True\n",
    "    return result\n",
    "\n",
    "def nodeProcessing(node,level=0):\n",
    "    if(level < 4):\n",
    "        if(isDuplicate(node, level)):\n",
    "            node.type = 1\n",
    "            return\n",
    "        elif(allowedTransitions(node) == []):\n",
    "            node.type = 2\n",
    "            return\n",
    "        else:\n",
    "            transitions = allowedTransitions(node)\n",
    "            level += 1\n",
    "            #children = []\n",
    "            for t in transitions:\n",
    "                marking = newMarking(node, nextStateFunction(t,node))\n",
    "                newNode = Node(parent=node, marking=marking, transition=t)\n",
    "                node.addChild(newNode)\n",
    "                nodeProcessing(newNode,level)\n",
    "        node.type = 3"
   ]
  },
  {
   "cell_type": "markdown",
   "metadata": {},
   "source": [
    "Реализуем функцию "
   ]
  },
  {
   "cell_type": "code",
   "execution_count": 10,
   "metadata": {
    "scrolled": true
   },
   "outputs": [],
   "source": [
    "#def execute(node,level=0):\n",
    "#    transitions = allowedTransitions(node)\n",
    "#    level += 1\n",
    "#    children = []\n",
    "#    for t in transitions:\n",
    "#        marking = newMarking(node, nextStateFunction(t,node))\n",
    "#        newNode = Node(parent=node, marking=marking, transition=t)\n",
    "#        nodeProcessing(newNode,level)\n",
    "#        children.append(newNode)\n",
    "#    node.children = children"
   ]
  },
  {
   "cell_type": "markdown",
   "metadata": {},
   "source": [
    "В данном фрагменте кода инициализируем корень дерева и запустим весь алгоритм."
   ]
  },
  {
   "cell_type": "code",
   "execution_count": null,
   "metadata": {
    "scrolled": true
   },
   "outputs": [],
   "source": [
    "root = Node(marking=init_m)\n",
    "\n",
    "nodeProcessing(root)\n",
    "print(root.getAllNodes())\n",
    "print(str(root))"
   ]
  },
  {
   "cell_type": "code",
   "execution_count": null,
   "metadata": {},
   "outputs": [],
   "source": []
  }
 ],
 "metadata": {
  "kernelspec": {
   "display_name": "Python 3",
   "language": "python",
   "name": "python3"
  },
  "language_info": {
   "codemirror_mode": {
    "name": "ipython",
    "version": 3
   },
   "file_extension": ".py",
   "mimetype": "text/x-python",
   "name": "python",
   "nbconvert_exporter": "python",
   "pygments_lexer": "ipython3",
   "version": "3.8.3"
  }
 },
 "nbformat": 4,
 "nbformat_minor": 4
}
