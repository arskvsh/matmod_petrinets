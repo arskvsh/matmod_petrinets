{
 "cells": [
  {
   "cell_type": "markdown",
   "metadata": {},
   "source": [
    "Лабораторная работа №2 по предмету Математическое Моделирование. Работу выполнил: студент БИВТ-18-3, Ефимов Даниил <br> ________________________________________________"
   ]
  },
  {
   "cell_type": "markdown",
   "metadata": {},
   "source": [
    "Импортируем необходимые библиотеки"
   ]
  },
  {
   "cell_type": "code",
   "execution_count": 1,
   "metadata": {},
   "outputs": [],
   "source": [
    "import collections\n",
    "import queue\n",
    "from graphviz import Digraph"
   ]
  },
  {
   "cell_type": "markdown",
   "metadata": {},
   "source": [
    "Реализуем класс узла сети Петри"
   ]
  },
  {
   "cell_type": "code",
   "execution_count": 2,
   "metadata": {},
   "outputs": [],
   "source": [
    "class Node:\n",
    "    def __init__(self, parent=None, type_node='border', children=None, mark=None, transition_id = 0):\n",
    "        global global_id\n",
    "        if mark is None:\n",
    "            mark = []\n",
    "        if children is None:\n",
    "            children = []\n",
    "        self.parent = parent\n",
    "        self.type_node = type_node\n",
    "        self.children = children\n",
    "        self.mark = mark\n",
    "        self.id = global_id\n",
    "        self.transition_id = transition_id\n",
    "        global_id += 1"
   ]
  },
  {
   "cell_type": "markdown",
   "metadata": {},
   "source": [
    "Метод проверки на то является ли вершина дублирующей"
   ]
  },
  {
   "cell_type": "code",
   "execution_count": 3,
   "metadata": {},
   "outputs": [],
   "source": [
    "def if_exist(node, archive):\n",
    "    return node in archive"
   ]
  },
  {
   "cell_type": "markdown",
   "metadata": {},
   "source": [
    "Метод проверки на то является ли вершина терминальной"
   ]
  },
  {
   "cell_type": "code",
   "execution_count": 4,
   "metadata": {},
   "outputs": [],
   "source": [
    "def check_if_terminates(mark):\n",
    "    # Если доступных переходов нет, то объявляем терминальной вершиной\n",
    "    return get_available_transition(mark) == []\n"
   ]
  },
  {
   "cell_type": "markdown",
   "metadata": {},
   "source": [
    "Считывание входных данных"
   ]
  },
  {
   "cell_type": "code",
   "execution_count": 103,
   "metadata": {},
   "outputs": [],
   "source": [
    "def parse(file):\n",
    "    global number_of_points\n",
    "    global points\n",
    "    global number_of_transition\n",
    "    global transitions\n",
    "    global edges_number\n",
    "    global edges_transitions_to_points\n",
    "    \n",
    "    # Открываем файл\n",
    "    file = open(file)\n",
    "    \n",
    "    # Считываем все точки сети и количество фишек в них\n",
    "    number_of_points = int(file.readline())\n",
    "    for i in range(0, number_of_points):\n",
    "        point, mark = file.readline().split(' ')\n",
    "        points[int(point) - 1] = int(mark)\n",
    "    \n",
    "    # Считываем все переходы в сети\n",
    "    number_of_transition = int(file.readline())\n",
    "    for i in range(0, number_of_transition):\n",
    "        transitions.append(int(file.readline()) - 1)\n",
    "    \n",
    "    # Считываем все ребра в сети\n",
    "    edges_number = int(file.readline())\n",
    "    for i in range(0, edges_number):\n",
    "        fr, to = file.readline().split(' ')\n",
    "        if int(to) - 1 in transitions:\n",
    "            reverse_points_to_transitions[int(to) - 1].append(int(fr) - 1)\n",
    "        if int(to) - 1 in points:\n",
    "            edges_transitions_to_points[int(fr) - 1].append(int(to) - 1)\n",
    "    for i in transitions: \n",
    "        if not i in reverse_points_to_transitions.keys():\n",
    "            reverse_points_to_transitions[i] = []\n"
   ]
  },
  {
   "cell_type": "markdown",
   "metadata": {},
   "source": [
    "Получение переходов, доступных для запуска"
   ]
  },
  {
   "cell_type": "code",
   "execution_count": 90,
   "metadata": {},
   "outputs": [],
   "source": [
    "def get_available_transition(marking):\n",
    "    # доступные переходы\n",
    "    available = []\n",
    "\n",
    "    # Проверим все переходы\n",
    "    for transition in reverse_points_to_transitions:\n",
    "\n",
    "        # В массиве будем хранить сколько из каждой точки стоит нам исполнение перехода\n",
    "        costs = [0] * number_of_points\n",
    "\n",
    "        # В массиве будем хранить все точки, откуда выполняется переход\n",
    "        points_from = reverse_points_to_transitions[transition]\n",
    "        if points_from == []:\n",
    "            available.append(transition)\n",
    "            continue\n",
    "    \n",
    "        is_available = True\n",
    "\n",
    "        # Проходимся по всем точкам, откуда выполняется конкретный переход\n",
    "        # и считаем стоимость перехода для каждой точки\n",
    "        for point in points_from:\n",
    "            costs[point] += 1\n",
    "        # если для какой-то из точек откуда выполняется переход невозможен, ввиду превышения стоимости, то объявляем\n",
    "        # его невозможным\n",
    "        for point in range(0, len(costs)):\n",
    "            if marking[point] == 'w':\n",
    "                continue\n",
    "            elif costs[point] > marking[point]:\n",
    "                is_available = False\n",
    "\n",
    "        # Если переход возможен, то сохраняем его\n",
    "        if is_available:\n",
    "            available.append(transition)\n",
    "\n",
    "    return available"
   ]
  },
  {
   "cell_type": "markdown",
   "metadata": {},
   "source": [
    "Обработка вершины"
   ]
  },
  {
   "cell_type": "code",
   "execution_count": 91,
   "metadata": {},
   "outputs": [],
   "source": [
    "def process_mark(node, active, archive, archive_objects):\n",
    "    if if_exist(node.mark, archive):\n",
    "        # Вершина признана дублирующей - обновляем статус и отправляем ее в архив\n",
    "        node.type_node = 'duplicate'\n",
    "        archive_objects.append(node)\n",
    "        archive.append(node.mark)\n",
    "        return\n",
    "    elif check_if_terminates(node.mark):\n",
    "        # Вершина признана терминальной - обновляем статус и отправляем ее в архив\n",
    "        node.type_node = 'terminate'\n",
    "        archive_objects.append(node)\n",
    "        archive.append(node.mark)\n",
    "        return\n",
    "    else:\n",
    "        # Вершина не дублирующая и не терминальная, поэтому нужно обработать ее\n",
    "        calc_children(node, active)\n",
    "    # После обработки бновляем статус вершины на внутренний, отправляем в архив\n",
    "    node.type_node = 'inside'\n",
    "    archive_objects.append(node)\n",
    "    archive.append(node.mark)"
   ]
  },
  {
   "cell_type": "markdown",
   "metadata": {},
   "source": [
    "Определяем те неравенства, которые истинные среди неравенств \"родительские маркировки\" <= \"значение функции cледующего состояния\""
   ]
  },
  {
   "cell_type": "code",
   "execution_count": 92,
   "metadata": {},
   "outputs": [],
   "source": [
    "def get_lower_parents(parents_marks, expected):\n",
    "    result = []\n",
    "    # Проходимся по всем родительским маркировкам\n",
    "    for mark in parents_marks:\n",
    "        # По умолчанию неравенство истинное\n",
    "        is_valid = True\n",
    "        \n",
    "        # Если один из разрядов не удолетворяет неравенству, то выкидываем неравенство \n",
    "        # Также обрабатываем случаи, когда есть сравнение с бесконечностью\n",
    "        for i in range(0, len(mark)):\n",
    "            if mark[i] == 'w' and expected != 'w':\n",
    "                is_valid = False\n",
    "            elif expected[i] == 'w' and mark != 'w':\n",
    "                is_valid = True\n",
    "            elif mark[i] > expected[i]:\n",
    "                is_valid = False\n",
    "                \n",
    "        # Если неравенство истинное, то добавляем его в список истинных неравенств \n",
    "        if is_valid:\n",
    "            result.append(mark)\n",
    "\n",
    "    return result"
   ]
  },
  {
   "cell_type": "markdown",
   "metadata": {},
   "source": [
    "Подсчет маркировки ребенка на основании родительских маркировок и значения функции следующего состояния"
   ]
  },
  {
   "cell_type": "code",
   "execution_count": 93,
   "metadata": {},
   "outputs": [],
   "source": [
    "def calculate_marking(parents_marks, expected):\n",
    "    result = expected.copy()\n",
    "    \n",
    "    # Подсчитываем маркировки на основании всех родительских действительных неравенств. \n",
    "    for mark in parents_marks:\n",
    "        # Проходимся по каждому из разрядов маркировки\n",
    "        for i in range(0, len(mark)):\n",
    "            # Если значение функции след. состояния бесконечность, то так и оставляем\n",
    "            if expected[i] == 'w' and mark[i] != 'w':\n",
    "                result[i] = 'w'\n",
    "            # Если значение родительского разряда строго меньше ожидаемого разряда, то значение становится бесконечным\n",
    "            elif mark[i] < expected[i]:\n",
    "                result[i] = 'w'\n",
    "    return result"
   ]
  },
  {
   "cell_type": "markdown",
   "metadata": {},
   "source": [
    "Запуск перехода "
   ]
  },
  {
   "cell_type": "code",
   "execution_count": 126,
   "metadata": {},
   "outputs": [],
   "source": [
    "def run_transition(transition, node):\n",
    "    expected_marking = node.mark.copy()\n",
    "    child = Node()\n",
    "    child.transition_id =  str(int(transition)-number_of_points+1)\n",
    "    # Считаем результат функции следующего состояния\n",
    "    # Добавляем к маркировки значения в соответсвии с итогом выполнения перехода\n",
    "    for i in edges_transitions_to_points[transition]:\n",
    "        if expected_marking[i] == 'w':\n",
    "            continue\n",
    "        expected_marking[i] += 1\n",
    "    \n",
    "    # Обновляем значения маркировки, вычитая фишки откуда они были забраны\n",
    "    for i in reverse_points_to_transitions[transition]:\n",
    "        if expected_marking[i] == 'w':\n",
    "            continue\n",
    "        expected_marking[i] -= 1\n",
    "    \n",
    "    # Получаем родительские маркировки \n",
    "    parents_markings = [node.mark]\n",
    "    b = node.parent\n",
    "    while b is not None:\n",
    "        parents_markings.append(b.mark)\n",
    "        b = b.parent\n",
    "    \n",
    "    # Получаем только действительные родительские маркировки(которые удолетворяют неравенству <= результат функции след. состояния)\n",
    "    parents_markings_filtered = get_lower_parents(parents_markings, expected_marking)\n",
    "\n",
    "    # Получаем финальную маркировку \n",
    "    final_marking = calculate_marking(parents_markings_filtered, expected_marking)\n",
    "    \n",
    "    # Обновляем маркировку ребенка и его родителя \n",
    "    child.mark = final_marking\n",
    "    child.parent = node\n",
    "\n",
    "    return child"
   ]
  },
  {
   "cell_type": "markdown",
   "metadata": {},
   "source": [
    "Просчет переходов"
   ]
  },
  {
   "cell_type": "code",
   "execution_count": 127,
   "metadata": {},
   "outputs": [],
   "source": [
    "def calc_children(node, active):\n",
    "    # Будем хранить требуемые к выполнению переходы в очереди\n",
    "    transitions_to_do = queue.Queue()\n",
    "    \n",
    "    # Запишем доступные к выполнению переходы в очередь \n",
    "    for to_do in get_available_transition(node.mark):\n",
    "        transitions_to_do.put(to_do)\n",
    "    children = []\n",
    "    \n",
    "    # Пока существуют доступные для выполнения переходы - будем их выполнять\n",
    "    while transitions_to_do.qsize() > 0:\n",
    "        # Получили переход\n",
    "        to_do = transitions_to_do.get()\n",
    "        \n",
    "        # Делаем новую вершину, запуская переход\n",
    "        new_node = run_transition(to_do, node)\n",
    "        \n",
    "        # Записываем в список детей полученную вершину \n",
    "        children.append(new_node)\n",
    "        \n",
    "        # Добавляем в очередь с вершинами, которые ожидают обработки\n",
    "        active.put(new_node)\n",
    "        \n",
    "    # Обнволяем список детей обрабатываемой вершины\n",
    "    node.children = children"
   ]
  },
  {
   "cell_type": "markdown",
   "metadata": {},
   "source": [
    "Визуализируем полученное дерево через graphviz. Получаем результат в файле. "
   ]
  },
  {
   "cell_type": "code",
   "execution_count": 133,
   "metadata": {},
   "outputs": [],
   "source": [
    "def convert_tree_to_pdf(archive):\n",
    "    edges = []\n",
    "    \n",
    "    # Создаем объект графа\n",
    "    dot = Digraph(comment='Дерево достижимости сети Петри')\n",
    "    \n",
    "    # Проходимся по всем вершинам и на основании их детей строим все доступные ребра графа\n",
    "    for obj in archive:\n",
    "        for child in obj.children:\n",
    "            edges.append([str(obj.id), str(child.id), str(child.transition_id)])\n",
    "    \n",
    "    # Добавляем все вершины дерева в граф\n",
    "    for obj in archive:\n",
    "        dot.node(str(obj.id), label='Тип: ' + obj.type_node + '\\n' + str(obj.mark))\n",
    "    \n",
    "    # Добавляем все ребра в граф\n",
    "    for edge in edges:\n",
    "        dot.edge(edge[0], edge[1], label = 't'+edge[2])\n",
    "    # Сохраняем дерево в pdf-файл\n",
    "    #dot.view()\n",
    "    \n",
    "    return dot"
   ]
  },
  {
   "cell_type": "markdown",
   "metadata": {},
   "source": [
    "Визуализация сети Петри"
   ]
  },
  {
   "cell_type": "code",
   "execution_count": 129,
   "metadata": {},
   "outputs": [],
   "source": [
    "def visual_net(file):\n",
    "    \n",
    "    # Открываем файл \n",
    "    file = open(file)\n",
    "    \n",
    "    # Создаем объект графа\n",
    "    net = Digraph(comment='Сеть Петри')\n",
    "\n",
    "    # Считаем количество точек в сети\n",
    "    number_of_points = int(file.readline())\n",
    "    \n",
    "    # Добавим в граф все точки\n",
    "    for i in range(0, number_of_points):\n",
    "        point, mark = file.readline().split(' ')\n",
    "        net.node(point, label='Вершина №' + str(i) + '\\n' + 'Фишек: ' + mark)\n",
    "        \n",
    "    # Добавим в граф все переходы \n",
    "    number_of_transition = int(file.readline())\n",
    "    for i in range(0, number_of_transition):\n",
    "        number = file.readline()\n",
    "        net.node(number, label='Переход №'+ str(int(number)-number_of_points))\n",
    "\n",
    "    # Добавим в граф все ребра\n",
    "    edges_number = int(file.readline())\n",
    "    for i in range(0, edges_number):\n",
    "        fr, to = file.readline().split(' ')\n",
    "        net.edge(fr, to)\n",
    "    return net\n",
    "\n",
    "    return net"
   ]
  },
  {
   "cell_type": "markdown",
   "metadata": {},
   "source": [
    "Основная функция выполнения построения дерева Петри, вызывающая остальные функции"
   ]
  },
  {
   "cell_type": "code",
   "execution_count": 130,
   "metadata": {},
   "outputs": [],
   "source": [
    "def run():\n",
    "    # Корень дерева\n",
    "    global root\n",
    "    root = Node(mark=list(points.values()))\n",
    "\n",
    "    print(\"Start marking is:\", list(points.values()))\n",
    "\n",
    "    # Здесь будем хранить вершины, нуждающиеся в обработке. Изначально там только корень.\n",
    "    active_nodes = queue.Queue()\n",
    "    active_nodes.put(root)\n",
    "\n",
    "    # В архивах будем хранить ранее обработанные маркировки и вершины\n",
    "    archive = []\n",
    "    archive_objects = []\n",
    "\n",
    "    # Пока есть вершины на обработку - будем их обрабатывать\n",
    "    while active_nodes.qsize() > 0:\n",
    "        node = active_nodes.get()\n",
    "        process_mark(node, active_nodes, archive, archive_objects)\n",
    "\n",
    "    return convert_tree_to_pdf(archive_objects)"
   ]
  },
  {
   "cell_type": "markdown",
   "metadata": {},
   "source": [
    "Визуализируем рассматриваемую сеть Петри. \n",
    "\n",
    "Данный пример визуализирует сеть Петри, рассмотренную 29.04.2021 на практическом занятии по предмету \"Математическое моделирование\""
   ]
  },
  {
   "cell_type": "code",
   "execution_count": 131,
   "metadata": {},
   "outputs": [
    {
     "data": {
      "image/svg+xml": [
       "<?xml version=\"1.0\" encoding=\"UTF-8\" standalone=\"no\"?>\r\n",
       "<!DOCTYPE svg PUBLIC \"-//W3C//DTD SVG 1.1//EN\"\r\n",
       " \"http://www.w3.org/Graphics/SVG/1.1/DTD/svg11.dtd\">\r\n",
       "<!-- Generated by graphviz version 2.47.1 (20210417.1919)\r\n",
       " -->\r\n",
       "<!-- Pages: 1 -->\r\n",
       "<svg width=\"294pt\" height=\"367pt\"\r\n",
       " viewBox=\"0.00 0.00 294.35 367.48\" xmlns=\"http://www.w3.org/2000/svg\" xmlns:xlink=\"http://www.w3.org/1999/xlink\">\r\n",
       "<g id=\"graph0\" class=\"graph\" transform=\"scale(1 1) rotate(0) translate(4 363.48)\">\r\n",
       "<polygon fill=\"white\" stroke=\"transparent\" points=\"-4,4 -4,-363.48 290.35,-363.48 290.35,4 -4,4\"/>\r\n",
       "<!-- 1 -->\r\n",
       "<g id=\"node1\" class=\"node\">\r\n",
       "<title>1</title>\r\n",
       "<ellipse fill=\"none\" stroke=\"black\" cx=\"67.18\" cy=\"-260.61\" rx=\"67.35\" ry=\"26.74\"/>\r\n",
       "<text text-anchor=\"middle\" x=\"67.18\" y=\"-264.41\" font-family=\"Times New Roman,serif\" font-size=\"14.00\">Вершина №0</text>\r\n",
       "<text text-anchor=\"middle\" x=\"67.18\" y=\"-249.41\" font-family=\"Times New Roman,serif\" font-size=\"14.00\">Фишек: 0</text>\r\n",
       "</g>\r\n",
       "<!-- 5 -->\r\n",
       "<g id=\"node5\" class=\"node\">\r\n",
       "<title>5</title>\r\n",
       "<ellipse fill=\"none\" stroke=\"black\" cx=\"67.18\" cy=\"-179.74\" rx=\"59.59\" ry=\"18\"/>\r\n",
       "<text text-anchor=\"middle\" x=\"67.18\" y=\"-176.04\" font-family=\"Times New Roman,serif\" font-size=\"14.00\">Переход №2</text>\r\n",
       "</g>\r\n",
       "<!-- 1&#45;&gt;5 -->\r\n",
       "<g id=\"edge2\" class=\"edge\">\r\n",
       "<title>1&#45;&gt;5</title>\r\n",
       "<path fill=\"none\" stroke=\"black\" d=\"M67.18,-233.35C67.18,-225.25 67.18,-216.31 67.18,-208.13\"/>\r\n",
       "<polygon fill=\"black\" stroke=\"black\" points=\"70.68,-207.96 67.18,-197.96 63.68,-207.96 70.68,-207.96\"/>\r\n",
       "</g>\r\n",
       "<!-- 2 -->\r\n",
       "<g id=\"node2\" class=\"node\">\r\n",
       "<title>2</title>\r\n",
       "<ellipse fill=\"none\" stroke=\"black\" cx=\"219.18\" cy=\"-98.87\" rx=\"67.35\" ry=\"26.74\"/>\r\n",
       "<text text-anchor=\"middle\" x=\"219.18\" y=\"-102.67\" font-family=\"Times New Roman,serif\" font-size=\"14.00\">Вершина №1</text>\r\n",
       "<text text-anchor=\"middle\" x=\"219.18\" y=\"-87.67\" font-family=\"Times New Roman,serif\" font-size=\"14.00\">Фишек: 0</text>\r\n",
       "</g>\r\n",
       "<!-- 6 -->\r\n",
       "<g id=\"node6\" class=\"node\">\r\n",
       "<title>6</title>\r\n",
       "<ellipse fill=\"none\" stroke=\"black\" cx=\"143.18\" cy=\"-18\" rx=\"59.59\" ry=\"18\"/>\r\n",
       "<text text-anchor=\"middle\" x=\"143.18\" y=\"-14.3\" font-family=\"Times New Roman,serif\" font-size=\"14.00\">Переход №3</text>\r\n",
       "</g>\r\n",
       "<!-- 2&#45;&gt;6 -->\r\n",
       "<g id=\"edge4\" class=\"edge\">\r\n",
       "<title>2&#45;&gt;6</title>\r\n",
       "<path fill=\"none\" stroke=\"black\" d=\"M195.54,-73.35C186.19,-63.64 175.48,-52.52 166.19,-42.88\"/>\r\n",
       "<polygon fill=\"black\" stroke=\"black\" points=\"168.55,-40.29 159.1,-35.52 163.51,-45.15 168.55,-40.29\"/>\r\n",
       "</g>\r\n",
       "<!-- 3 -->\r\n",
       "<g id=\"node3\" class=\"node\">\r\n",
       "<title>3</title>\r\n",
       "<ellipse fill=\"none\" stroke=\"black\" cx=\"67.18\" cy=\"-98.87\" rx=\"67.35\" ry=\"26.74\"/>\r\n",
       "<text text-anchor=\"middle\" x=\"67.18\" y=\"-102.67\" font-family=\"Times New Roman,serif\" font-size=\"14.00\">Вершина №2</text>\r\n",
       "<text text-anchor=\"middle\" x=\"67.18\" y=\"-87.67\" font-family=\"Times New Roman,serif\" font-size=\"14.00\">Фишек: 2</text>\r\n",
       "</g>\r\n",
       "<!-- 3&#45;&gt;5 -->\r\n",
       "<g id=\"edge6\" class=\"edge\">\r\n",
       "<title>3&#45;&gt;5</title>\r\n",
       "<path fill=\"none\" stroke=\"black\" d=\"M73.55,-125.65C74.02,-133.95 74.05,-143.17 73.63,-151.56\"/>\r\n",
       "<polygon fill=\"black\" stroke=\"black\" points=\"70.13,-151.39 72.85,-161.63 77.11,-151.92 70.13,-151.39\"/>\r\n",
       "</g>\r\n",
       "<!-- 3&#45;&gt;6 -->\r\n",
       "<g id=\"edge5\" class=\"edge\">\r\n",
       "<title>3&#45;&gt;6</title>\r\n",
       "<path fill=\"none\" stroke=\"black\" d=\"M90.81,-73.35C100.16,-63.64 110.87,-52.52 120.16,-42.88\"/>\r\n",
       "<polygon fill=\"black\" stroke=\"black\" points=\"122.84,-45.15 127.25,-35.52 117.8,-40.29 122.84,-45.15\"/>\r\n",
       "</g>\r\n",
       "<!-- 4 -->\r\n",
       "<g id=\"node4\" class=\"node\">\r\n",
       "<title>4</title>\r\n",
       "<ellipse fill=\"none\" stroke=\"black\" cx=\"67.18\" cy=\"-341.48\" rx=\"59.59\" ry=\"18\"/>\r\n",
       "<text text-anchor=\"middle\" x=\"67.18\" y=\"-337.78\" font-family=\"Times New Roman,serif\" font-size=\"14.00\">Переход №1</text>\r\n",
       "</g>\r\n",
       "<!-- 4&#45;&gt;1 -->\r\n",
       "<g id=\"edge1\" class=\"edge\">\r\n",
       "<title>4&#45;&gt;1</title>\r\n",
       "<path fill=\"none\" stroke=\"black\" d=\"M67.18,-323.37C67.18,-315.88 67.18,-306.79 67.18,-297.91\"/>\r\n",
       "<polygon fill=\"black\" stroke=\"black\" points=\"70.68,-297.69 67.18,-287.69 63.68,-297.69 70.68,-297.69\"/>\r\n",
       "</g>\r\n",
       "<!-- 5&#45;&gt;2 -->\r\n",
       "<g id=\"edge3\" class=\"edge\">\r\n",
       "<title>5&#45;&gt;2</title>\r\n",
       "<path fill=\"none\" stroke=\"black\" d=\"M95.77,-163.91C116.66,-153.06 145.51,-138.09 170.07,-125.35\"/>\r\n",
       "<polygon fill=\"black\" stroke=\"black\" points=\"171.98,-128.3 179.24,-120.59 168.75,-122.09 171.98,-128.3\"/>\r\n",
       "</g>\r\n",
       "<!-- 5&#45;&gt;3 -->\r\n",
       "<g id=\"edge7\" class=\"edge\">\r\n",
       "<title>5&#45;&gt;3</title>\r\n",
       "<path fill=\"none\" stroke=\"black\" d=\"M61.5,-161.63C60.67,-153.99 60.32,-144.69 60.45,-135.64\"/>\r\n",
       "<polygon fill=\"black\" stroke=\"black\" points=\"63.95,-135.76 60.8,-125.65 56.95,-135.52 63.95,-135.76\"/>\r\n",
       "</g>\r\n",
       "</g>\r\n",
       "</svg>\r\n"
      ],
      "text/plain": [
       "<graphviz.dot.Digraph at 0x1ece8767250>"
      ]
     },
     "execution_count": 131,
     "metadata": {},
     "output_type": "execute_result"
    }
   ],
   "source": [
    "visual_net('5.txt')"
   ]
  },
  {
   "cell_type": "markdown",
   "metadata": {},
   "source": [
    "Сбрасываем значение глобальных переменных, считываем заданную сеть Петри и строим дерево достижимости "
   ]
  },
  {
   "cell_type": "code",
   "execution_count": 134,
   "metadata": {
    "scrolled": false
   },
   "outputs": [
    {
     "name": "stdout",
     "output_type": "stream",
     "text": [
      "Start marking is: [0, 0, 2]\n"
     ]
    },
    {
     "data": {
      "image/svg+xml": [
       "<?xml version=\"1.0\" encoding=\"UTF-8\" standalone=\"no\"?>\r\n",
       "<!DOCTYPE svg PUBLIC \"-//W3C//DTD SVG 1.1//EN\"\r\n",
       " \"http://www.w3.org/Graphics/SVG/1.1/DTD/svg11.dtd\">\r\n",
       "<!-- Generated by graphviz version 2.47.1 (20210417.1919)\r\n",
       " -->\r\n",
       "<!-- Pages: 1 -->\r\n",
       "<svg width=\"435pt\" height=\"585pt\"\r\n",
       " viewBox=\"0.00 0.00 434.59 585.44\" xmlns=\"http://www.w3.org/2000/svg\" xmlns:xlink=\"http://www.w3.org/1999/xlink\">\r\n",
       "<g id=\"graph0\" class=\"graph\" transform=\"scale(1 1) rotate(0) translate(4 581.44)\">\r\n",
       "<polygon fill=\"white\" stroke=\"transparent\" points=\"-4,4 -4,-581.44 430.59,-581.44 430.59,4 -4,4\"/>\r\n",
       "<!-- 0 -->\r\n",
       "<g id=\"node1\" class=\"node\">\r\n",
       "<title>0</title>\r\n",
       "<ellipse fill=\"none\" stroke=\"black\" cx=\"285.3\" cy=\"-550.57\" rx=\"56.64\" ry=\"26.74\"/>\r\n",
       "<text text-anchor=\"middle\" x=\"285.3\" y=\"-554.37\" font-family=\"Times New Roman,serif\" font-size=\"14.00\">Тип: inside</text>\r\n",
       "<text text-anchor=\"middle\" x=\"285.3\" y=\"-539.37\" font-family=\"Times New Roman,serif\" font-size=\"14.00\">[0, 0, 2]</text>\r\n",
       "</g>\r\n",
       "<!-- 1 -->\r\n",
       "<g id=\"node2\" class=\"node\">\r\n",
       "<title>1</title>\r\n",
       "<ellipse fill=\"none\" stroke=\"black\" cx=\"285.3\" cy=\"-445.83\" rx=\"56.64\" ry=\"26.74\"/>\r\n",
       "<text text-anchor=\"middle\" x=\"285.3\" y=\"-449.63\" font-family=\"Times New Roman,serif\" font-size=\"14.00\">Тип: inside</text>\r\n",
       "<text text-anchor=\"middle\" x=\"285.3\" y=\"-434.63\" font-family=\"Times New Roman,serif\" font-size=\"14.00\">[&#39;w&#39;, 0, 2]</text>\r\n",
       "</g>\r\n",
       "<!-- 0&#45;&gt;1 -->\r\n",
       "<g id=\"edge1\" class=\"edge\">\r\n",
       "<title>0&#45;&gt;1</title>\r\n",
       "<path fill=\"none\" stroke=\"black\" d=\"M285.3,-523.64C285.3,-511.36 285.3,-496.47 285.3,-483.08\"/>\r\n",
       "<polygon fill=\"black\" stroke=\"black\" points=\"288.8,-482.75 285.3,-472.75 281.8,-482.75 288.8,-482.75\"/>\r\n",
       "<text text-anchor=\"middle\" x=\"290.8\" y=\"-494.5\" font-family=\"Times New Roman,serif\" font-size=\"14.00\">t1</text>\r\n",
       "</g>\r\n",
       "<!-- 2 -->\r\n",
       "<g id=\"node3\" class=\"node\">\r\n",
       "<title>2</title>\r\n",
       "<ellipse fill=\"none\" stroke=\"black\" cx=\"213.3\" cy=\"-341.09\" rx=\"56.64\" ry=\"26.74\"/>\r\n",
       "<text text-anchor=\"middle\" x=\"213.3\" y=\"-344.89\" font-family=\"Times New Roman,serif\" font-size=\"14.00\">Тип: inside</text>\r\n",
       "<text text-anchor=\"middle\" x=\"213.3\" y=\"-329.89\" font-family=\"Times New Roman,serif\" font-size=\"14.00\">[&#39;w&#39;, &#39;w&#39;, 2]</text>\r\n",
       "</g>\r\n",
       "<!-- 1&#45;&gt;2 -->\r\n",
       "<g id=\"edge2\" class=\"edge\">\r\n",
       "<title>1&#45;&gt;2</title>\r\n",
       "<path fill=\"none\" stroke=\"black\" d=\"M268.05,-420.22C258.59,-406.72 246.74,-389.81 236.48,-375.17\"/>\r\n",
       "<polygon fill=\"black\" stroke=\"black\" points=\"239.26,-373.04 230.65,-366.85 233.52,-377.05 239.26,-373.04\"/>\r\n",
       "<text text-anchor=\"middle\" x=\"259.8\" y=\"-389.76\" font-family=\"Times New Roman,serif\" font-size=\"14.00\">t2</text>\r\n",
       "</g>\r\n",
       "<!-- 3 -->\r\n",
       "<g id=\"node4\" class=\"node\">\r\n",
       "<title>3</title>\r\n",
       "<ellipse fill=\"none\" stroke=\"black\" cx=\"357.3\" cy=\"-341.09\" rx=\"69.09\" ry=\"26.74\"/>\r\n",
       "<text text-anchor=\"middle\" x=\"357.3\" y=\"-344.89\" font-family=\"Times New Roman,serif\" font-size=\"14.00\">Тип: duplicate</text>\r\n",
       "<text text-anchor=\"middle\" x=\"357.3\" y=\"-329.89\" font-family=\"Times New Roman,serif\" font-size=\"14.00\">[&#39;w&#39;, 0, 2]</text>\r\n",
       "</g>\r\n",
       "<!-- 1&#45;&gt;3 -->\r\n",
       "<g id=\"edge3\" class=\"edge\">\r\n",
       "<title>1&#45;&gt;3</title>\r\n",
       "<path fill=\"none\" stroke=\"black\" d=\"M302.54,-420.22C311.93,-406.82 323.68,-390.05 333.89,-375.49\"/>\r\n",
       "<polygon fill=\"black\" stroke=\"black\" points=\"336.82,-377.41 339.69,-367.21 331.09,-373.39 336.82,-377.41\"/>\r\n",
       "<text text-anchor=\"middle\" x=\"331.8\" y=\"-389.76\" font-family=\"Times New Roman,serif\" font-size=\"14.00\">t1</text>\r\n",
       "</g>\r\n",
       "<!-- 4 -->\r\n",
       "<g id=\"node5\" class=\"node\">\r\n",
       "<title>4</title>\r\n",
       "<ellipse fill=\"none\" stroke=\"black\" cx=\"69.3\" cy=\"-236.35\" rx=\"69.09\" ry=\"26.74\"/>\r\n",
       "<text text-anchor=\"middle\" x=\"69.3\" y=\"-240.15\" font-family=\"Times New Roman,serif\" font-size=\"14.00\">Тип: duplicate</text>\r\n",
       "<text text-anchor=\"middle\" x=\"69.3\" y=\"-225.15\" font-family=\"Times New Roman,serif\" font-size=\"14.00\">[&#39;w&#39;, &#39;w&#39;, 2]</text>\r\n",
       "</g>\r\n",
       "<!-- 2&#45;&gt;4 -->\r\n",
       "<g id=\"edge4\" class=\"edge\">\r\n",
       "<title>2&#45;&gt;4</title>\r\n",
       "<path fill=\"none\" stroke=\"black\" d=\"M182.76,-318.3C161.51,-303.14 132.95,-282.76 109.8,-266.25\"/>\r\n",
       "<polygon fill=\"black\" stroke=\"black\" points=\"111.71,-263.31 101.54,-260.36 107.65,-269.01 111.71,-263.31\"/>\r\n",
       "<text text-anchor=\"middle\" x=\"155.8\" y=\"-285.02\" font-family=\"Times New Roman,serif\" font-size=\"14.00\">t2</text>\r\n",
       "</g>\r\n",
       "<!-- 5 -->\r\n",
       "<g id=\"node6\" class=\"node\">\r\n",
       "<title>5</title>\r\n",
       "<ellipse fill=\"none\" stroke=\"black\" cx=\"213.3\" cy=\"-236.35\" rx=\"56.64\" ry=\"26.74\"/>\r\n",
       "<text text-anchor=\"middle\" x=\"213.3\" y=\"-240.15\" font-family=\"Times New Roman,serif\" font-size=\"14.00\">Тип: inside</text>\r\n",
       "<text text-anchor=\"middle\" x=\"213.3\" y=\"-225.15\" font-family=\"Times New Roman,serif\" font-size=\"14.00\">[&#39;w&#39;, &#39;w&#39;, 1]</text>\r\n",
       "</g>\r\n",
       "<!-- 2&#45;&gt;5 -->\r\n",
       "<g id=\"edge5\" class=\"edge\">\r\n",
       "<title>2&#45;&gt;5</title>\r\n",
       "<path fill=\"none\" stroke=\"black\" d=\"M213.3,-314.16C213.3,-301.88 213.3,-286.99 213.3,-273.6\"/>\r\n",
       "<polygon fill=\"black\" stroke=\"black\" points=\"216.8,-273.27 213.3,-263.27 209.8,-273.27 216.8,-273.27\"/>\r\n",
       "<text text-anchor=\"middle\" x=\"218.8\" y=\"-285.02\" font-family=\"Times New Roman,serif\" font-size=\"14.00\">t3</text>\r\n",
       "</g>\r\n",
       "<!-- 6 -->\r\n",
       "<g id=\"node7\" class=\"node\">\r\n",
       "<title>6</title>\r\n",
       "<ellipse fill=\"none\" stroke=\"black\" cx=\"357.3\" cy=\"-236.35\" rx=\"69.09\" ry=\"26.74\"/>\r\n",
       "<text text-anchor=\"middle\" x=\"357.3\" y=\"-240.15\" font-family=\"Times New Roman,serif\" font-size=\"14.00\">Тип: duplicate</text>\r\n",
       "<text text-anchor=\"middle\" x=\"357.3\" y=\"-225.15\" font-family=\"Times New Roman,serif\" font-size=\"14.00\">[&#39;w&#39;, &#39;w&#39;, 2]</text>\r\n",
       "</g>\r\n",
       "<!-- 2&#45;&gt;6 -->\r\n",
       "<g id=\"edge6\" class=\"edge\">\r\n",
       "<title>2&#45;&gt;6</title>\r\n",
       "<path fill=\"none\" stroke=\"black\" d=\"M243.84,-318.3C265.08,-303.14 293.64,-282.76 316.79,-266.25\"/>\r\n",
       "<polygon fill=\"black\" stroke=\"black\" points=\"318.95,-269.01 325.05,-260.36 314.88,-263.31 318.95,-269.01\"/>\r\n",
       "<text text-anchor=\"middle\" x=\"299.8\" y=\"-285.02\" font-family=\"Times New Roman,serif\" font-size=\"14.00\">t1</text>\r\n",
       "</g>\r\n",
       "<!-- 7 -->\r\n",
       "<g id=\"node8\" class=\"node\">\r\n",
       "<title>7</title>\r\n",
       "<ellipse fill=\"none\" stroke=\"black\" cx=\"69.3\" cy=\"-131.61\" rx=\"69.09\" ry=\"26.74\"/>\r\n",
       "<text text-anchor=\"middle\" x=\"69.3\" y=\"-135.41\" font-family=\"Times New Roman,serif\" font-size=\"14.00\">Тип: duplicate</text>\r\n",
       "<text text-anchor=\"middle\" x=\"69.3\" y=\"-120.41\" font-family=\"Times New Roman,serif\" font-size=\"14.00\">[&#39;w&#39;, &#39;w&#39;, 1]</text>\r\n",
       "</g>\r\n",
       "<!-- 5&#45;&gt;7 -->\r\n",
       "<g id=\"edge7\" class=\"edge\">\r\n",
       "<title>5&#45;&gt;7</title>\r\n",
       "<path fill=\"none\" stroke=\"black\" d=\"M182.76,-213.56C161.51,-198.4 132.95,-178.02 109.8,-161.51\"/>\r\n",
       "<polygon fill=\"black\" stroke=\"black\" points=\"111.71,-158.57 101.54,-155.62 107.65,-164.27 111.71,-158.57\"/>\r\n",
       "<text text-anchor=\"middle\" x=\"155.8\" y=\"-180.28\" font-family=\"Times New Roman,serif\" font-size=\"14.00\">t2</text>\r\n",
       "</g>\r\n",
       "<!-- 8 -->\r\n",
       "<g id=\"node9\" class=\"node\">\r\n",
       "<title>8</title>\r\n",
       "<ellipse fill=\"none\" stroke=\"black\" cx=\"213.3\" cy=\"-131.61\" rx=\"56.64\" ry=\"26.74\"/>\r\n",
       "<text text-anchor=\"middle\" x=\"213.3\" y=\"-135.41\" font-family=\"Times New Roman,serif\" font-size=\"14.00\">Тип: inside</text>\r\n",
       "<text text-anchor=\"middle\" x=\"213.3\" y=\"-120.41\" font-family=\"Times New Roman,serif\" font-size=\"14.00\">[&#39;w&#39;, &#39;w&#39;, 0]</text>\r\n",
       "</g>\r\n",
       "<!-- 5&#45;&gt;8 -->\r\n",
       "<g id=\"edge8\" class=\"edge\">\r\n",
       "<title>5&#45;&gt;8</title>\r\n",
       "<path fill=\"none\" stroke=\"black\" d=\"M213.3,-209.42C213.3,-197.14 213.3,-182.25 213.3,-168.86\"/>\r\n",
       "<polygon fill=\"black\" stroke=\"black\" points=\"216.8,-168.53 213.3,-158.53 209.8,-168.53 216.8,-168.53\"/>\r\n",
       "<text text-anchor=\"middle\" x=\"218.8\" y=\"-180.28\" font-family=\"Times New Roman,serif\" font-size=\"14.00\">t3</text>\r\n",
       "</g>\r\n",
       "<!-- 9 -->\r\n",
       "<g id=\"node10\" class=\"node\">\r\n",
       "<title>9</title>\r\n",
       "<ellipse fill=\"none\" stroke=\"black\" cx=\"357.3\" cy=\"-131.61\" rx=\"69.09\" ry=\"26.74\"/>\r\n",
       "<text text-anchor=\"middle\" x=\"357.3\" y=\"-135.41\" font-family=\"Times New Roman,serif\" font-size=\"14.00\">Тип: duplicate</text>\r\n",
       "<text text-anchor=\"middle\" x=\"357.3\" y=\"-120.41\" font-family=\"Times New Roman,serif\" font-size=\"14.00\">[&#39;w&#39;, &#39;w&#39;, 1]</text>\r\n",
       "</g>\r\n",
       "<!-- 5&#45;&gt;9 -->\r\n",
       "<g id=\"edge9\" class=\"edge\">\r\n",
       "<title>5&#45;&gt;9</title>\r\n",
       "<path fill=\"none\" stroke=\"black\" d=\"M243.84,-213.56C265.08,-198.4 293.64,-178.02 316.79,-161.51\"/>\r\n",
       "<polygon fill=\"black\" stroke=\"black\" points=\"318.95,-164.27 325.05,-155.62 314.88,-158.57 318.95,-164.27\"/>\r\n",
       "<text text-anchor=\"middle\" x=\"299.8\" y=\"-180.28\" font-family=\"Times New Roman,serif\" font-size=\"14.00\">t1</text>\r\n",
       "</g>\r\n",
       "<!-- 10 -->\r\n",
       "<g id=\"node11\" class=\"node\">\r\n",
       "<title>10</title>\r\n",
       "<ellipse fill=\"none\" stroke=\"black\" cx=\"213.3\" cy=\"-26.87\" rx=\"69.09\" ry=\"26.74\"/>\r\n",
       "<text text-anchor=\"middle\" x=\"213.3\" y=\"-30.67\" font-family=\"Times New Roman,serif\" font-size=\"14.00\">Тип: duplicate</text>\r\n",
       "<text text-anchor=\"middle\" x=\"213.3\" y=\"-15.67\" font-family=\"Times New Roman,serif\" font-size=\"14.00\">[&#39;w&#39;, &#39;w&#39;, 0]</text>\r\n",
       "</g>\r\n",
       "<!-- 8&#45;&gt;10 -->\r\n",
       "<g id=\"edge10\" class=\"edge\">\r\n",
       "<title>8&#45;&gt;10</title>\r\n",
       "<path fill=\"none\" stroke=\"black\" d=\"M213.3,-104.68C213.3,-92.4 213.3,-77.51 213.3,-64.12\"/>\r\n",
       "<polygon fill=\"black\" stroke=\"black\" points=\"216.8,-63.79 213.3,-53.79 209.8,-63.79 216.8,-63.79\"/>\r\n",
       "<text text-anchor=\"middle\" x=\"218.8\" y=\"-75.54\" font-family=\"Times New Roman,serif\" font-size=\"14.00\">t1</text>\r\n",
       "</g>\r\n",
       "</g>\r\n",
       "</svg>\r\n"
      ],
      "text/plain": [
       "<graphviz.dot.Digraph at 0x1ece86e9ac0>"
      ]
     },
     "execution_count": 134,
     "metadata": {},
     "output_type": "execute_result"
    }
   ],
   "source": [
    "number_of_points = 0\n",
    "points = dict()\n",
    "\n",
    "number_of_transition = 0\n",
    "transitions = []\n",
    "edges_number = 0\n",
    "edges_transitions_to_points = collections.defaultdict(list)\n",
    "reverse_points_to_transitions = collections.defaultdict(list)\n",
    "\n",
    "root = None\n",
    "global_id = 0\n",
    "\n",
    "parse('5.txt')\n",
    "run()"
   ]
  },
  {
   "cell_type": "code",
   "execution_count": null,
   "metadata": {},
   "outputs": [],
   "source": []
  },
  {
   "cell_type": "code",
   "execution_count": null,
   "metadata": {},
   "outputs": [],
   "source": []
  }
 ],
 "metadata": {
  "kernelspec": {
   "display_name": "Python 3",
   "language": "python",
   "name": "python3"
  },
  "language_info": {
   "codemirror_mode": {
    "name": "ipython",
    "version": 3
   },
   "file_extension": ".py",
   "mimetype": "text/x-python",
   "name": "python",
   "nbconvert_exporter": "python",
   "pygments_lexer": "ipython3",
   "version": "3.8.3"
  }
 },
 "nbformat": 4,
 "nbformat_minor": 5
}
